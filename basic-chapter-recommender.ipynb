{
 "metadata": {
  "language_info": {
   "codemirror_mode": {
    "name": "ipython",
    "version": 3
   },
   "file_extension": ".py",
   "mimetype": "text/x-python",
   "name": "python",
   "nbconvert_exporter": "python",
   "pygments_lexer": "ipython3",
   "version": "3.7.8-final"
  },
  "orig_nbformat": 2,
  "kernelspec": {
   "name": "python37864bitbookrecommenderenvcondaac37fa521003460ca392d4b3cccdbf55",
   "display_name": "Python 3.7.8 64-bit ('book-recommender-env': conda)"
  }
 },
 "nbformat": 4,
 "nbformat_minor": 2,
 "cells": [
  {
   "cell_type": "code",
   "execution_count": 1,
   "metadata": {},
   "outputs": [],
   "source": [
    "import pandas as pd\n",
    "\n",
    "import networkx as nx"
   ]
  },
  {
   "cell_type": "code",
   "execution_count": 8,
   "metadata": {},
   "outputs": [],
   "source": [
    "# Prepare data as edge list\n",
    "df = pd.read_csv('network.csv')\n",
    "G = nx.from_pandas_edgelist(df, \"source\", \"target\", create_using=nx.DiGraph)"
   ]
  },
  {
   "cell_type": "code",
   "execution_count": 9,
   "metadata": {},
   "outputs": [],
   "source": [
    "# calculate centrality measures\n",
    "\n",
    "out = nx.out_degree_centrality(G)\n",
    "bb = nx.betweenness_centrality(G)\n",
    "eigen = nx.eigenvector_centrality(G)"
   ]
  },
  {
   "cell_type": "code",
   "execution_count": 10,
   "metadata": {},
   "outputs": [],
   "source": [
    "# Assign centrality measures to node list\n",
    "nx.set_node_attributes(G, out, 'out-degree')\n",
    "nx.set_node_attributes(G, bb, 'betweenness')\n",
    "nx.set_node_attributes(G, eigen, 'eigen')"
   ]
  },
  {
   "cell_type": "code",
   "execution_count": 14,
   "metadata": {},
   "outputs": [],
   "source": [
    "data_list=list(G.nodes(data=True))"
   ]
  },
  {
   "cell_type": "code",
   "execution_count": 17,
   "metadata": {},
   "outputs": [],
   "source": [
    "data = {}\n",
    "data['book_chapter']=[x[0] for x in data_list]\n",
    "data['out-degree'] = [x[1]['out-degree'] for x in data_list]\n",
    "data['eigen'] = [x[1]['eigen'] for x in data_list]\n",
    "data['betweenness'] = [x[1]['betweenness'] for x in data_list]\n"
   ]
  },
  {
   "cell_type": "code",
   "execution_count": 41,
   "metadata": {},
   "outputs": [],
   "source": [
    "# Find Connected Nodes\n",
    "df1 = pd.DataFrame(data)\n",
    "row1=[n for n in G['chapter-1wong']]\n",
    "df2= pd.DataFrame(row1)"
   ]
  },
  {
   "cell_type": "code",
   "execution_count": 42,
   "metadata": {},
   "outputs": [
    {
     "output_type": "execute_result",
     "data": {
      "text/plain": [
       "                 0\n",
       "0    chapter-1wong\n",
       "1  chapter-1orland"
      ],
      "text/html": "<div>\n<style scoped>\n    .dataframe tbody tr th:only-of-type {\n        vertical-align: middle;\n    }\n\n    .dataframe tbody tr th {\n        vertical-align: top;\n    }\n\n    .dataframe thead th {\n        text-align: right;\n    }\n</style>\n<table border=\"1\" class=\"dataframe\">\n  <thead>\n    <tr style=\"text-align: right;\">\n      <th></th>\n      <th>0</th>\n    </tr>\n  </thead>\n  <tbody>\n    <tr>\n      <th>0</th>\n      <td>chapter-1wong</td>\n    </tr>\n    <tr>\n      <th>1</th>\n      <td>chapter-1orland</td>\n    </tr>\n  </tbody>\n</table>\n</div>"
     },
     "metadata": {},
     "execution_count": 42
    }
   ],
   "source": [
    "df2"
   ]
  },
  {
   "cell_type": "code",
   "execution_count": 45,
   "metadata": {},
   "outputs": [
    {
     "output_type": "execute_result",
     "data": {
      "text/plain": [
       "                 out-degree         eigen  betweenness\n",
       "0                                                     \n",
       "chapter-1wong      0.001427  2.428802e-11     0.012185\n",
       "chapter-1orland    0.000713  9.899479e-12     0.012668"
      ],
      "text/html": "<div>\n<style scoped>\n    .dataframe tbody tr th:only-of-type {\n        vertical-align: middle;\n    }\n\n    .dataframe tbody tr th {\n        vertical-align: top;\n    }\n\n    .dataframe thead th {\n        text-align: right;\n    }\n</style>\n<table border=\"1\" class=\"dataframe\">\n  <thead>\n    <tr style=\"text-align: right;\">\n      <th></th>\n      <th>out-degree</th>\n      <th>eigen</th>\n      <th>betweenness</th>\n    </tr>\n    <tr>\n      <th>0</th>\n      <th></th>\n      <th></th>\n      <th></th>\n    </tr>\n  </thead>\n  <tbody>\n    <tr>\n      <th>chapter-1wong</th>\n      <td>0.001427</td>\n      <td>2.428802e-11</td>\n      <td>0.012185</td>\n    </tr>\n    <tr>\n      <th>chapter-1orland</th>\n      <td>0.000713</td>\n      <td>9.899479e-12</td>\n      <td>0.012668</td>\n    </tr>\n  </tbody>\n</table>\n</div>"
     },
     "metadata": {},
     "execution_count": 45
    }
   ],
   "source": [
    "# Add centrality measures to connected nodes\n",
    "df3 = df2.set_index(0).join(df1.set_index('book_chapter'))\n",
    "df3"
   ]
  },
  {
   "cell_type": "code",
   "execution_count": 48,
   "metadata": {},
   "outputs": [
    {
     "output_type": "execute_result",
     "data": {
      "text/plain": [
       "                 out-degree         eigen  betweenness\n",
       "0                                                     \n",
       "chapter-1orland    0.000713  9.899479e-12     0.012668\n",
       "chapter-1wong      0.001427  2.428802e-11     0.012185"
      ],
      "text/html": "<div>\n<style scoped>\n    .dataframe tbody tr th:only-of-type {\n        vertical-align: middle;\n    }\n\n    .dataframe tbody tr th {\n        vertical-align: top;\n    }\n\n    .dataframe thead th {\n        text-align: right;\n    }\n</style>\n<table border=\"1\" class=\"dataframe\">\n  <thead>\n    <tr style=\"text-align: right;\">\n      <th></th>\n      <th>out-degree</th>\n      <th>eigen</th>\n      <th>betweenness</th>\n    </tr>\n    <tr>\n      <th>0</th>\n      <th></th>\n      <th></th>\n      <th></th>\n    </tr>\n  </thead>\n  <tbody>\n    <tr>\n      <th>chapter-1orland</th>\n      <td>0.000713</td>\n      <td>9.899479e-12</td>\n      <td>0.012668</td>\n    </tr>\n    <tr>\n      <th>chapter-1wong</th>\n      <td>0.001427</td>\n      <td>2.428802e-11</td>\n      <td>0.012185</td>\n    </tr>\n  </tbody>\n</table>\n</div>"
     },
     "metadata": {},
     "execution_count": 48
    }
   ],
   "source": [
    "# Sort by centrality measure to create a basic recommendation\n",
    "df3 = df3.sort_values(by=['betweenness'], ascending=False)\n",
    "df3"
   ]
  }
 ]
}