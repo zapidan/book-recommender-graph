{
 "metadata": {
  "language_info": {
   "codemirror_mode": {
    "name": "ipython",
    "version": 3
   },
   "file_extension": ".py",
   "mimetype": "text/x-python",
   "name": "python",
   "nbconvert_exporter": "python",
   "pygments_lexer": "ipython3",
   "version": "3.7.8-final"
  },
  "orig_nbformat": 2,
  "kernelspec": {
   "name": "python37864bitbookrecommenderenvcondaac37fa521003460ca392d4b3cccdbf55",
   "display_name": "Python 3.7.8 64-bit ('book-recommender-env': conda)"
  }
 },
 "nbformat": 4,
 "nbformat_minor": 2,
 "cells": [
  {
   "cell_type": "code",
   "execution_count": 34,
   "metadata": {},
   "outputs": [],
   "source": [
    "from ipywidgets import interact, Select\n",
    "from IPython.display import display\n",
    "import pandas as pd\n",
    "import networkx as nx"
   ]
  },
  {
   "cell_type": "code",
   "execution_count": 35,
   "metadata": {},
   "outputs": [],
   "source": [
    "# Prepare data as edge list\n",
    "df = pd.read_csv('network.csv')\n",
    "G = nx.from_pandas_edgelist(df, \"source\", \"target\", create_using=nx.DiGraph)"
   ]
  },
  {
   "cell_type": "code",
   "execution_count": 36,
   "metadata": {},
   "outputs": [],
   "source": [
    "# calculate centrality measures\n",
    "\n",
    "out = nx.out_degree_centrality(G)\n",
    "bb = nx.betweenness_centrality(G)\n",
    "eigen = nx.eigenvector_centrality(G)"
   ]
  },
  {
   "cell_type": "code",
   "execution_count": 37,
   "metadata": {},
   "outputs": [],
   "source": [
    "# Assign centrality measures to node list\n",
    "nx.set_node_attributes(G, out, 'out-degree')\n",
    "nx.set_node_attributes(G, bb, 'betweenness')\n",
    "nx.set_node_attributes(G, eigen, 'eigen')"
   ]
  },
  {
   "cell_type": "code",
   "execution_count": 38,
   "metadata": {},
   "outputs": [],
   "source": [
    "data_list=list(G.nodes(data=True))"
   ]
  },
  {
   "cell_type": "code",
   "execution_count": 39,
   "metadata": {},
   "outputs": [],
   "source": [
    "data = {}\n",
    "data['book_chapter']=[x[0] for x in data_list]\n",
    "data['out-degree'] = [x[1]['out-degree'] for x in data_list]\n",
    "data['eigen'] = [x[1]['eigen'] for x in data_list]\n",
    "data['betweenness'] = [x[1]['betweenness'] for x in data_list]"
   ]
  },
  {
   "cell_type": "code",
   "execution_count": 40,
   "metadata": {},
   "outputs": [],
   "source": [
    "df = pd.DataFrame(data)"
   ]
  },
  {
   "cell_type": "code",
   "execution_count": 90,
   "metadata": {},
   "outputs": [],
   "source": [
    "# Create a list of unique book chapters\n",
    "book_chapter=sorted(df.book_chapter.unique().tolist())"
   ]
  },
  {
   "cell_type": "code",
   "execution_count": 95,
   "metadata": {},
   "outputs": [],
   "source": [
    "def view(book_chapter=''):\n",
    "    row1=[n for n in G[book_chapter]]\n",
    "    df2= pd.DataFrame(row1)\n",
    "    df3=df2.set_index(0).join(df.set_index('book_chapter'))\n",
    "    df3=df3.sort_values(by=['eigen'],ascending=False)\n",
    "    return df3"
   ]
  },
  {
   "cell_type": "markdown",
   "metadata": {},
   "source": [
    "<h1>Book recommendation Network</h1>"
   ]
  },
  {
   "cell_type": "markdown",
   "metadata": {},
   "source": [
    "![image.png](https://github.com/zapidan/book-recommender-graph/blob/master/modified-network.png?raw=true)"
   ]
  },
  {
   "cell_type": "code",
   "execution_count": 96,
   "metadata": {},
   "outputs": [
    {
     "output_type": "display_data",
     "data": {
      "text/plain": "interactive(children=(Select(description='book_chapter', options=(' 1-so-what-is-spark-anyway-perrin', ' 12-tr…",
      "application/vnd.jupyter.widget-view+json": {
       "version_major": 2,
       "version_minor": 0,
       "model_id": "39d192195fe44bafb5a834abf46c026d"
      }
     },
     "metadata": {}
    },
    {
     "output_type": "display_data",
     "data": {
      "text/plain": "<function __main__.view(book_chapter='')>"
     },
     "metadata": {}
    }
   ],
   "source": [
    "# Create a dropdown for the chapters\n",
    "w = Select(options=book_chapter)\n",
    "v = interact(view, book_chapter=w)\n",
    "display(v)\n"
   ]
  },
  {
   "cell_type": "markdown",
   "metadata": {},
   "source": [
    "Run `voila  display-network.ipynb --enable_nbextensions=True` to see webapp"
   ]
  },
  {
   "cell_type": "code",
   "execution_count": null,
   "metadata": {},
   "outputs": [],
   "source": []
  }
 ]
}